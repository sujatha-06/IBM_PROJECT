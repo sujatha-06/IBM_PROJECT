{
  "cells": [
    {
      "cell_type": "code",
      "execution_count": null,
      "metadata": {
        "colab": {
          "base_uri": "https://localhost:8080/"
        },
        "id": "vgQ25RB5SML2",
        "outputId": "8b767981-06ce-4c05-c53b-9777c3ab6440"
      },
      "outputs": [
        {
          "output_type": "stream",
          "name": "stdout",
          "text": [
            "Requirement already satisfied: wget in /usr/local/lib/python3.11/dist-packages (3.2)\n",
            "Requirement already satisfied: threadpoolctl>=3.1.0 in /usr/local/lib/python3.11/dist-packages (from scikit-learn) (3.6.0)\n",
            "Requirement already satisfied: six>=1.10.0 in /usr/local/lib/python3.11/dist-packages (from lomond->ibm-watson-machine-learning>=1.0.310) (1.17.0)\n"
          ]
        }
      ],
      "source": [
        "!pip install wget | tail -n 1\n",
        "!pip install scikit-learn | tail -n 1\n",
        "!pip install \"ibm-watson-machine-learning>=1.0.310\" | tail -n 1"
      ]
    },
    {
      "cell_type": "code",
      "execution_count": null,
      "metadata": {
        "colab": {
          "base_uri": "https://localhost:8080/"
        },
        "id": "H2COU7omSr07",
        "outputId": "85afa1ef-5a63-4b08-bc8d-22ebef4ab45c"
      },
      "outputs": [
        {
          "output_type": "stream",
          "name": "stdout",
          "text": [
            "Requirement already satisfied: six>=1.5 in /usr/local/lib/python3.11/dist-packages (from python-dateutil<3.0.0,>=2.1->botocore<1.39.0,>=1.38.43->boto3) (1.17.0)\n"
          ]
        }
      ],
      "source": [
        "!pip install boto3 | tail -n 1"
      ]
    },
    {
      "cell_type": "code",
      "execution_count": null,
      "metadata": {
        "id": "nYhGoeGvSm57"
      },
      "outputs": [],
      "source": [
        "# --- 2. Imports ---\n",
        "import os\n",
        "import json\n",
        "import types\n",
        "import pandas as pd\n",
        "import numpy as np\n",
        "from botocore.client import Config\n",
        "import ibm_boto3\n",
        "from sklearn.model_selection import train_test_split\n",
        "from sklearn.metrics import classification_report, confusion_matrix\n",
        "from ibm_watson_machine_learning.foundation_models.utils.enums import ModelTypes\n",
        "from ibm_watson_machine_learning.metanames import GenTextParamsMetaNames as GenParams\n",
        "from ibm_watson_machine_learning.foundation_models import Model"
      ]
    },
    {
      "cell_type": "code",
      "execution_count": null,
      "metadata": {
        "colab": {
          "base_uri": "https://localhost:8080/"
        },
        "id": "oBsTewauTAcs",
        "outputId": "ae46c14b-7d3a-4ec2-d417-4450628825da"
      },
      "outputs": [
        {
          "name": "stdout",
          "output_type": "stream",
          "text": [
            "Enter your IBM API Key: XgU6sMyQnWgSgattCnc2q2a7SbJOS2yrIp0XH2NiiyxZ\n"
          ]
        }
      ],
      "source": [
        "# --- 3. Set up IBM Credentials ---\n",
        "credentials = {\n",
        "    \"url\": \"https://us-south.ml.cloud.ibm.com\",\n",
        "    \"apikey\": input(\"Enter your IBM API Key: \").strip()\n",
        "}"
      ]
    },
    {
      "cell_type": "code",
      "execution_count": null,
      "metadata": {
        "colab": {
          "base_uri": "https://localhost:8080/"
        },
        "id": "E4AyUXBNTIhz",
        "outputId": "cf7d7323-5ace-4c31-bafa-5cfc94670dee"
      },
      "outputs": [
        {
          "name": "stdout",
          "output_type": "stream",
          "text": [
            "Enter your project_id (or press Enter if none): 49b03528-0542-4806-838f-886a48b02fe9\n"
          ]
        }
      ],
      "source": [
        "project_id = os.environ.get(\"PROJECT_ID\", input(\"Enter your project_id (or press Enter if none): \"))\n"
      ]
    },
    {
      "cell_type": "code",
      "execution_count": null,
      "metadata": {
        "id": "d4DE6OsnTLqz"
      },
      "outputs": [],
      "source": [
        "# --- 4. Connect to COS & Load Dataset ---\n",
        "cos_client = ibm_boto3.client(service_name='s3',\n",
        "    ibm_api_key_id=credentials['apikey'],\n",
        "    ibm_auth_endpoint='https://iam.cloud.ibm.com/oidc/token',\n",
        "    config=Config(signature_version='oauth'),\n",
        "    endpoint_url='https://s3.us-south.cloud-object-storage.appdomain.cloud'\n",
        ")"
      ]
    },
    {
      "cell_type": "code",
      "execution_count": null,
      "metadata": {
        "colab": {
          "base_uri": "https://localhost:8080/"
        },
        "id": "pjw7NTlkTSwB",
        "outputId": "935296ad-6650-4a35-8b3d-3bc992050d18"
      },
      "outputs": [
        {
          "name": "stdout",
          "output_type": "stream",
          "text": [
            "Enter your COS bucket name: bucket-7wcdp1ru65mimb3\n",
            "Enter your dataset file name (e.g., legal_sentiment.csv): student_feedback.csv\n"
          ]
        }
      ],
      "source": [
        "bucket = input(\"Enter your COS bucket name: \").strip()\n",
        "object_key = input(\"Enter your dataset file name (e.g., legal_sentiment.csv): \").strip()"
      ]
    },
    {
      "cell_type": "code",
      "source": [
        "# Read from IBM COS\n",
        "body = cos_client.get_object(Bucket=bucket, Key=object_key)['Body']\n",
        "if not hasattr(body, \"_iter_\"):\n",
        "    def _iter_(self): yield from self\n",
        "    body._iter_ = types.MethodType(_iter_, body)\n",
        "\n",
        "df = pd.read_csv(body)\n",
        "df.head()\n",
        "\n",
        "\n"
      ],
      "metadata": {
        "colab": {
          "base_uri": "https://localhost:8080/",
          "height": 206
        },
        "id": "E2aluT2MJNvM",
        "outputId": "c17fd383-54a5-4077-87f5-c378a8ee4f4a"
      },
      "execution_count": null,
      "outputs": [
        {
          "output_type": "execute_result",
          "data": {
            "text/plain": [
              "                                       feedback_text        category\n",
              "0  The sports ground needs better lighting for ev...      Facilities\n",
              "1  The course materials should be made available ...       Academics\n",
              "2  The admissions helpline is difficult to reach ...  Administration\n",
              "3  More dustbins should be placed around the campus.      Facilities\n",
              "4  The syllabus includes relevant case studies an...       Academics"
            ],
            "text/html": [
              "\n",
              "  <div id=\"df-d9be2b1b-39a4-47ee-937e-5dc920e3724c\" class=\"colab-df-container\">\n",
              "    <div>\n",
              "<style scoped>\n",
              "    .dataframe tbody tr th:only-of-type {\n",
              "        vertical-align: middle;\n",
              "    }\n",
              "\n",
              "    .dataframe tbody tr th {\n",
              "        vertical-align: top;\n",
              "    }\n",
              "\n",
              "    .dataframe thead th {\n",
              "        text-align: right;\n",
              "    }\n",
              "</style>\n",
              "<table border=\"1\" class=\"dataframe\">\n",
              "  <thead>\n",
              "    <tr style=\"text-align: right;\">\n",
              "      <th></th>\n",
              "      <th>feedback_text</th>\n",
              "      <th>category</th>\n",
              "    </tr>\n",
              "  </thead>\n",
              "  <tbody>\n",
              "    <tr>\n",
              "      <th>0</th>\n",
              "      <td>The sports ground needs better lighting for ev...</td>\n",
              "      <td>Facilities</td>\n",
              "    </tr>\n",
              "    <tr>\n",
              "      <th>1</th>\n",
              "      <td>The course materials should be made available ...</td>\n",
              "      <td>Academics</td>\n",
              "    </tr>\n",
              "    <tr>\n",
              "      <th>2</th>\n",
              "      <td>The admissions helpline is difficult to reach ...</td>\n",
              "      <td>Administration</td>\n",
              "    </tr>\n",
              "    <tr>\n",
              "      <th>3</th>\n",
              "      <td>More dustbins should be placed around the campus.</td>\n",
              "      <td>Facilities</td>\n",
              "    </tr>\n",
              "    <tr>\n",
              "      <th>4</th>\n",
              "      <td>The syllabus includes relevant case studies an...</td>\n",
              "      <td>Academics</td>\n",
              "    </tr>\n",
              "  </tbody>\n",
              "</table>\n",
              "</div>\n",
              "    <div class=\"colab-df-buttons\">\n",
              "\n",
              "  <div class=\"colab-df-container\">\n",
              "    <button class=\"colab-df-convert\" onclick=\"convertToInteractive('df-d9be2b1b-39a4-47ee-937e-5dc920e3724c')\"\n",
              "            title=\"Convert this dataframe to an interactive table.\"\n",
              "            style=\"display:none;\">\n",
              "\n",
              "  <svg xmlns=\"http://www.w3.org/2000/svg\" height=\"24px\" viewBox=\"0 -960 960 960\">\n",
              "    <path d=\"M120-120v-720h720v720H120Zm60-500h600v-160H180v160Zm220 220h160v-160H400v160Zm0 220h160v-160H400v160ZM180-400h160v-160H180v160Zm440 0h160v-160H620v160ZM180-180h160v-160H180v160Zm440 0h160v-160H620v160Z\"/>\n",
              "  </svg>\n",
              "    </button>\n",
              "\n",
              "  <style>\n",
              "    .colab-df-container {\n",
              "      display:flex;\n",
              "      gap: 12px;\n",
              "    }\n",
              "\n",
              "    .colab-df-convert {\n",
              "      background-color: #E8F0FE;\n",
              "      border: none;\n",
              "      border-radius: 50%;\n",
              "      cursor: pointer;\n",
              "      display: none;\n",
              "      fill: #1967D2;\n",
              "      height: 32px;\n",
              "      padding: 0 0 0 0;\n",
              "      width: 32px;\n",
              "    }\n",
              "\n",
              "    .colab-df-convert:hover {\n",
              "      background-color: #E2EBFA;\n",
              "      box-shadow: 0px 1px 2px rgba(60, 64, 67, 0.3), 0px 1px 3px 1px rgba(60, 64, 67, 0.15);\n",
              "      fill: #174EA6;\n",
              "    }\n",
              "\n",
              "    .colab-df-buttons div {\n",
              "      margin-bottom: 4px;\n",
              "    }\n",
              "\n",
              "    [theme=dark] .colab-df-convert {\n",
              "      background-color: #3B4455;\n",
              "      fill: #D2E3FC;\n",
              "    }\n",
              "\n",
              "    [theme=dark] .colab-df-convert:hover {\n",
              "      background-color: #434B5C;\n",
              "      box-shadow: 0px 1px 3px 1px rgba(0, 0, 0, 0.15);\n",
              "      filter: drop-shadow(0px 1px 2px rgba(0, 0, 0, 0.3));\n",
              "      fill: #FFFFFF;\n",
              "    }\n",
              "  </style>\n",
              "\n",
              "    <script>\n",
              "      const buttonEl =\n",
              "        document.querySelector('#df-d9be2b1b-39a4-47ee-937e-5dc920e3724c button.colab-df-convert');\n",
              "      buttonEl.style.display =\n",
              "        google.colab.kernel.accessAllowed ? 'block' : 'none';\n",
              "\n",
              "      async function convertToInteractive(key) {\n",
              "        const element = document.querySelector('#df-d9be2b1b-39a4-47ee-937e-5dc920e3724c');\n",
              "        const dataTable =\n",
              "          await google.colab.kernel.invokeFunction('convertToInteractive',\n",
              "                                                    [key], {});\n",
              "        if (!dataTable) return;\n",
              "\n",
              "        const docLinkHtml = 'Like what you see? Visit the ' +\n",
              "          '<a target=\"_blank\" href=https://colab.research.google.com/notebooks/data_table.ipynb>data table notebook</a>'\n",
              "          + ' to learn more about interactive tables.';\n",
              "        element.innerHTML = '';\n",
              "        dataTable['output_type'] = 'display_data';\n",
              "        await google.colab.output.renderOutput(dataTable, element);\n",
              "        const docLink = document.createElement('div');\n",
              "        docLink.innerHTML = docLinkHtml;\n",
              "        element.appendChild(docLink);\n",
              "      }\n",
              "    </script>\n",
              "  </div>\n",
              "\n",
              "\n",
              "    <div id=\"df-f9d63ade-1fa1-4f4a-8b23-0b0d07eea46f\">\n",
              "      <button class=\"colab-df-quickchart\" onclick=\"quickchart('df-f9d63ade-1fa1-4f4a-8b23-0b0d07eea46f')\"\n",
              "                title=\"Suggest charts\"\n",
              "                style=\"display:none;\">\n",
              "\n",
              "<svg xmlns=\"http://www.w3.org/2000/svg\" height=\"24px\"viewBox=\"0 0 24 24\"\n",
              "     width=\"24px\">\n",
              "    <g>\n",
              "        <path d=\"M19 3H5c-1.1 0-2 .9-2 2v14c0 1.1.9 2 2 2h14c1.1 0 2-.9 2-2V5c0-1.1-.9-2-2-2zM9 17H7v-7h2v7zm4 0h-2V7h2v10zm4 0h-2v-4h2v4z\"/>\n",
              "    </g>\n",
              "</svg>\n",
              "      </button>\n",
              "\n",
              "<style>\n",
              "  .colab-df-quickchart {\n",
              "      --bg-color: #E8F0FE;\n",
              "      --fill-color: #1967D2;\n",
              "      --hover-bg-color: #E2EBFA;\n",
              "      --hover-fill-color: #174EA6;\n",
              "      --disabled-fill-color: #AAA;\n",
              "      --disabled-bg-color: #DDD;\n",
              "  }\n",
              "\n",
              "  [theme=dark] .colab-df-quickchart {\n",
              "      --bg-color: #3B4455;\n",
              "      --fill-color: #D2E3FC;\n",
              "      --hover-bg-color: #434B5C;\n",
              "      --hover-fill-color: #FFFFFF;\n",
              "      --disabled-bg-color: #3B4455;\n",
              "      --disabled-fill-color: #666;\n",
              "  }\n",
              "\n",
              "  .colab-df-quickchart {\n",
              "    background-color: var(--bg-color);\n",
              "    border: none;\n",
              "    border-radius: 50%;\n",
              "    cursor: pointer;\n",
              "    display: none;\n",
              "    fill: var(--fill-color);\n",
              "    height: 32px;\n",
              "    padding: 0;\n",
              "    width: 32px;\n",
              "  }\n",
              "\n",
              "  .colab-df-quickchart:hover {\n",
              "    background-color: var(--hover-bg-color);\n",
              "    box-shadow: 0 1px 2px rgba(60, 64, 67, 0.3), 0 1px 3px 1px rgba(60, 64, 67, 0.15);\n",
              "    fill: var(--button-hover-fill-color);\n",
              "  }\n",
              "\n",
              "  .colab-df-quickchart-complete:disabled,\n",
              "  .colab-df-quickchart-complete:disabled:hover {\n",
              "    background-color: var(--disabled-bg-color);\n",
              "    fill: var(--disabled-fill-color);\n",
              "    box-shadow: none;\n",
              "  }\n",
              "\n",
              "  .colab-df-spinner {\n",
              "    border: 2px solid var(--fill-color);\n",
              "    border-color: transparent;\n",
              "    border-bottom-color: var(--fill-color);\n",
              "    animation:\n",
              "      spin 1s steps(1) infinite;\n",
              "  }\n",
              "\n",
              "  @keyframes spin {\n",
              "    0% {\n",
              "      border-color: transparent;\n",
              "      border-bottom-color: var(--fill-color);\n",
              "      border-left-color: var(--fill-color);\n",
              "    }\n",
              "    20% {\n",
              "      border-color: transparent;\n",
              "      border-left-color: var(--fill-color);\n",
              "      border-top-color: var(--fill-color);\n",
              "    }\n",
              "    30% {\n",
              "      border-color: transparent;\n",
              "      border-left-color: var(--fill-color);\n",
              "      border-top-color: var(--fill-color);\n",
              "      border-right-color: var(--fill-color);\n",
              "    }\n",
              "    40% {\n",
              "      border-color: transparent;\n",
              "      border-right-color: var(--fill-color);\n",
              "      border-top-color: var(--fill-color);\n",
              "    }\n",
              "    60% {\n",
              "      border-color: transparent;\n",
              "      border-right-color: var(--fill-color);\n",
              "    }\n",
              "    80% {\n",
              "      border-color: transparent;\n",
              "      border-right-color: var(--fill-color);\n",
              "      border-bottom-color: var(--fill-color);\n",
              "    }\n",
              "    90% {\n",
              "      border-color: transparent;\n",
              "      border-bottom-color: var(--fill-color);\n",
              "    }\n",
              "  }\n",
              "</style>\n",
              "\n",
              "      <script>\n",
              "        async function quickchart(key) {\n",
              "          const quickchartButtonEl =\n",
              "            document.querySelector('#' + key + ' button');\n",
              "          quickchartButtonEl.disabled = true;  // To prevent multiple clicks.\n",
              "          quickchartButtonEl.classList.add('colab-df-spinner');\n",
              "          try {\n",
              "            const charts = await google.colab.kernel.invokeFunction(\n",
              "                'suggestCharts', [key], {});\n",
              "          } catch (error) {\n",
              "            console.error('Error during call to suggestCharts:', error);\n",
              "          }\n",
              "          quickchartButtonEl.classList.remove('colab-df-spinner');\n",
              "          quickchartButtonEl.classList.add('colab-df-quickchart-complete');\n",
              "        }\n",
              "        (() => {\n",
              "          let quickchartButtonEl =\n",
              "            document.querySelector('#df-f9d63ade-1fa1-4f4a-8b23-0b0d07eea46f button');\n",
              "          quickchartButtonEl.style.display =\n",
              "            google.colab.kernel.accessAllowed ? 'block' : 'none';\n",
              "        })();\n",
              "      </script>\n",
              "    </div>\n",
              "\n",
              "    </div>\n",
              "  </div>\n"
            ],
            "application/vnd.google.colaboratory.intrinsic+json": {
              "type": "dataframe",
              "variable_name": "df",
              "summary": "{\n  \"name\": \"df\",\n  \"rows\": 224,\n  \"fields\": [\n    {\n      \"column\": \"feedback_text\",\n      \"properties\": {\n        \"dtype\": \"string\",\n        \"num_unique_values\": 212,\n        \"samples\": [\n          \"The laboratory equipment is outdated.\",\n          \"The hostel has a good warden.\",\n          \"The campus has a good amphitheater.\"\n        ],\n        \"semantic_type\": \"\",\n        \"description\": \"\"\n      }\n    },\n    {\n      \"column\": \"category\",\n      \"properties\": {\n        \"dtype\": \"category\",\n        \"num_unique_values\": 3,\n        \"samples\": [\n          \"Facilities\",\n          \"Academics\",\n          \"Administration\"\n        ],\n        \"semantic_type\": \"\",\n        \"description\": \"\"\n      }\n    }\n  ]\n}"
            }
          },
          "metadata": {},
          "execution_count": 19
        }
      ]
    },
    {
      "cell_type": "code",
      "execution_count": null,
      "metadata": {
        "id": "RqFuOuXvTdjt",
        "colab": {
          "base_uri": "https://localhost:8080/"
        },
        "outputId": "d28a2154-b2da-4725-8ed0-56d221599cf8"
      },
      "outputs": [
        {
          "output_type": "stream",
          "name": "stdout",
          "text": [
            "Category distribution:\n",
            "\n",
            "category\n",
            "Administration    76\n",
            "Facilities        75\n",
            "Academics         73\n",
            "Name: count, dtype: int64\n"
          ]
        }
      ],
      "source": [
        "\n",
        "# Clean and inspect\n",
        "df = df.dropna(subset=['feedback_text', 'category'])\n",
        "df['category'] = df['category'].str.strip().str.capitalize()\n",
        "print(\"Category distribution:\\n\")\n",
        "print(df['category'].value_counts())"
      ]
    },
    {
      "cell_type": "code",
      "execution_count": null,
      "metadata": {
        "id": "5gaHwiZMTut4"
      },
      "outputs": [],
      "source": [
        "# --- 6. Train-Test Split ---\n",
        "data_train, data_test = train_test_split(df, test_size=0.3, random_state=42, stratify=df['category'])"
      ]
    },
    {
      "cell_type": "code",
      "execution_count": null,
      "metadata": {
        "id": "c77XxjrGT5JG"
      },
      "outputs": [],
      "source": [
        "# --- 7. Setup IBM Foundation Model ---\n",
        "parameters = {\n",
        "    GenParams.DECODING_METHOD: \"greedy\",\n",
        "    GenParams.RANDOM_SEED: 42,\n",
        "    GenParams.REPETITION_PENALTY: 1,\n",
        "    GenParams.MIN_NEW_TOKENS: 1,\n",
        "    GenParams.MAX_NEW_TOKENS: 5\n",
        "}"
      ]
    },
    {
      "cell_type": "code",
      "execution_count": null,
      "metadata": {
        "colab": {
          "base_uri": "https://localhost:8080/"
        },
        "id": "9T8X50bTT8Tv",
        "outputId": "52ac8451-1bbf-48dc-df98-9e3555134b33"
      },
      "outputs": [
        {
          "output_type": "stream",
          "name": "stderr",
          "text": [
            "/usr/local/lib/python3.11/dist-packages/ibm_watson_machine_learning/foundation_models/utils/utils.py:273: LifecycleWarning: Model 'google/flan-t5-xxl' is in deprecated state from 2025-05-28 until 2025-07-30. IDs of alternative models: None. Further details: https://dataplatform.cloud.ibm.com/docs/content/wsj/analyze-data/fm-model-lifecycle.html?context=wx&audience=wdp\n",
            "  warnings.warn(default_warning_template.format(\n"
          ]
        },
        {
          "output_type": "execute_result",
          "data": {
            "text/plain": [
              "{'model_id': 'google/flan-t5-xxl',\n",
              " 'label': 'flan-t5-xxl-11b',\n",
              " 'provider': 'Google',\n",
              " 'source': 'Hugging Face',\n",
              " 'functions': [{'id': 'text_generation'}],\n",
              " 'short_description': 'flan-t5-xxl is an 11 billion parameter model based on the Flan-T5 family.',\n",
              " 'long_description': 'flan-t5-xxl (11B) is an 11 billion parameter model based on the Flan-T5 family. It is a pretrained T5 - an encoder-decoder model pre-trained on a mixture of supervised / unsupervised tasks converted into a text-to-text format, and fine-tuned on the Fine-tuned Language Net (FLAN) with instructions for better zero-shot and few-shot performance.',\n",
              " 'terms_url': 'https://huggingface.co/google/flan-t5-xxl/blob/main/README.md',\n",
              " 'input_tier': 'class_2',\n",
              " 'output_tier': 'class_2',\n",
              " 'number_params': '11b',\n",
              " 'min_shot_size': 0,\n",
              " 'task_ids': ['question_answering',\n",
              "  'summarization',\n",
              "  'retrieval_augmented_generation',\n",
              "  'classification',\n",
              "  'generation',\n",
              "  'extraction'],\n",
              " 'tasks': [{'id': 'question_answering', 'ratings': {'quality': 4}},\n",
              "  {'id': 'summarization', 'ratings': {'quality': 4}},\n",
              "  {'id': 'retrieval_augmented_generation', 'ratings': {'quality': 3}},\n",
              "  {'id': 'classification', 'ratings': {'quality': 4}},\n",
              "  {'id': 'generation'},\n",
              "  {'id': 'extraction', 'ratings': {'quality': 4}}],\n",
              " 'model_limits': {'max_sequence_length': 4096, 'max_output_tokens': 4095},\n",
              " 'limits': {'lite': {'call_time': '5m0s', 'max_output_tokens': 4095},\n",
              "  'v2-professional': {'call_time': '10m0s', 'max_output_tokens': 4095},\n",
              "  'v2-standard': {'call_time': '10m0s', 'max_output_tokens': 4095}},\n",
              " 'lifecycle': [{'id': 'available', 'start_date': '2023-07-07'},\n",
              "  {'id': 'deprecated', 'start_date': '2025-05-28'},\n",
              "  {'id': 'withdrawn', 'start_date': '2025-07-30'}]}"
            ]
          },
          "metadata": {},
          "execution_count": 24
        }
      ],
      "source": [
        "model = Model(\n",
        "    model_id=ModelTypes.FLAN_T5_XXL,\n",
        "    params=parameters,\n",
        "    credentials=credentials,\n",
        "    project_id=project_id\n",
        ")\n",
        "model.get_details()"
      ]
    },
    {
      "cell_type": "code",
      "execution_count": null,
      "metadata": {
        "id": "KhrVddHEUFwn",
        "colab": {
          "base_uri": "https://localhost:8080/"
        },
        "outputId": "6ea8d9cc-0abd-4fad-bd63-3170bc7506e7"
      },
      "outputs": [
        {
          "output_type": "stream",
          "name": "stdout",
          "text": [
            "sentence: The course includes internships.\n",
            "category: Academics\n",
            "sentence: The teachers are inspiring.\n",
            "category: Academics\n",
            "sentence: The gym equipment is well-maintained and modern.\n",
            "category: Facilities\n",
            "sentence: The campus is clean and well-maintained.\n",
            "category: Facilities\n",
            "sentence: The administrative office should be more organized.\n",
            "category: Administration\n",
            "sentence: The process for getting character certificate is slow.\n",
            "category: Administration\n"
          ]
        }
      ],
      "source": [
        "# --- 8. Prepare Few-Shot Examples ---\n",
        "few_shot_examples = []\n",
        "for category in data_train['category'].unique():\n",
        "    samples = data_train[data_train['category'] == category].sample(2)\n",
        "    for _, row in samples.iterrows():\n",
        "        few_shot_examples.append(f\"sentence: {row['feedback_text']}\\ncategory: {row['category']}\")\n",
        "\n",
        "few_shot_context = \"\\n\".join(few_shot_examples)\n",
        "print(few_shot_context)\n"
      ]
    },
    {
      "cell_type": "code",
      "execution_count": null,
      "metadata": {
        "colab": {
          "base_uri": "https://localhost:8080/"
        },
        "id": "rg08pk8T-fnJ",
        "outputId": "3f3a1c9f-90d8-41e1-9b00-b86380f00917"
      },
      "outputs": [
        {
          "output_type": "stream",
          "name": "stdout",
          "text": [
            "sentence: The course includes internships.\n",
            "category: Academics\n",
            "sentence: The teachers are inspiring.\n",
            "category: Academics\n",
            "sentence: The gym equipment is well-maintained and modern.\n",
            "category: Facilities\n",
            "sentence: The campus is clean and well-maintained.\n",
            "category: Facilities\n",
            "sentence: The administrative office should be more organized.\n",
            "category: Administration\n",
            "sentence: The process for getting character certificate is slow.\n",
            "category: Administration\n"
          ]
        }
      ],
      "source": [
        "print(few_shot_context)"
      ]
    },
    {
      "cell_type": "code",
      "execution_count": null,
      "metadata": {
        "id": "ZJpyw6R6UKKk"
      },
      "outputs": [],
      "source": [
        "instruction = \"Determine the sentiment of the following sentence (as 'positive', 'negative', or 'neutral'). Use the examples below as reference:\\n\" + few_shot_context + \"\\n\"\n",
        "\n",
        "# --- 9. Generate Predictions ---\n",
        "results = []\n",
        "for text in data_test['feedback_text']:\n",
        "    prompt = instruction + f\"\\nsentence: {text}\\ncategory:\"\n",
        "    result = model.generate(prompt)['results'][0]['generated_text']\n",
        "    results.append(result.strip().lower())"
      ]
    },
    {
      "cell_type": "code",
      "execution_count": null,
      "metadata": {
        "id": "TPdsKsCRUMov"
      },
      "outputs": [],
      "source": [
        "# --- 10. Evaluation ---\n",
        "y_true = data_test['category'].values\n",
        "y_pred = results"
      ]
    },
    {
      "cell_type": "code",
      "execution_count": null,
      "metadata": {
        "colab": {
          "base_uri": "https://localhost:8080/"
        },
        "id": "oG7kbvkMURYS",
        "outputId": "fba87989-e395-4513-dcae-48f354aa9602"
      },
      "outputs": [
        {
          "output_type": "stream",
          "name": "stdout",
          "text": [
            "\n",
            "Classification Report:\n",
            "                precision    recall  f1-score   support\n",
            "\n",
            "     Academics       0.00      0.00      0.00      22.0\n",
            "Administration       0.00      0.00      0.00      23.0\n",
            "    Facilities       0.00      0.00      0.00      23.0\n",
            "      negative       0.00      0.00      0.00       0.0\n",
            "       neutral       0.00      0.00      0.00       0.0\n",
            "      positive       0.00      0.00      0.00       0.0\n",
            "\n",
            "      accuracy                           0.00      68.0\n",
            "     macro avg       0.00      0.00      0.00      68.0\n",
            "  weighted avg       0.00      0.00      0.00      68.0\n",
            "\n"
          ]
        },
        {
          "output_type": "stream",
          "name": "stderr",
          "text": [
            "/usr/local/lib/python3.11/dist-packages/sklearn/metrics/_classification.py:1565: UndefinedMetricWarning: Precision is ill-defined and being set to 0.0 in labels with no predicted samples. Use `zero_division` parameter to control this behavior.\n",
            "  _warn_prf(average, modifier, f\"{metric.capitalize()} is\", len(result))\n",
            "/usr/local/lib/python3.11/dist-packages/sklearn/metrics/_classification.py:1565: UndefinedMetricWarning: Recall is ill-defined and being set to 0.0 in labels with no true samples. Use `zero_division` parameter to control this behavior.\n",
            "  _warn_prf(average, modifier, f\"{metric.capitalize()} is\", len(result))\n",
            "/usr/local/lib/python3.11/dist-packages/sklearn/metrics/_classification.py:1565: UndefinedMetricWarning: Precision is ill-defined and being set to 0.0 in labels with no predicted samples. Use `zero_division` parameter to control this behavior.\n",
            "  _warn_prf(average, modifier, f\"{metric.capitalize()} is\", len(result))\n",
            "/usr/local/lib/python3.11/dist-packages/sklearn/metrics/_classification.py:1565: UndefinedMetricWarning: Recall is ill-defined and being set to 0.0 in labels with no true samples. Use `zero_division` parameter to control this behavior.\n",
            "  _warn_prf(average, modifier, f\"{metric.capitalize()} is\", len(result))\n",
            "/usr/local/lib/python3.11/dist-packages/sklearn/metrics/_classification.py:1565: UndefinedMetricWarning: Precision is ill-defined and being set to 0.0 in labels with no predicted samples. Use `zero_division` parameter to control this behavior.\n",
            "  _warn_prf(average, modifier, f\"{metric.capitalize()} is\", len(result))\n",
            "/usr/local/lib/python3.11/dist-packages/sklearn/metrics/_classification.py:1565: UndefinedMetricWarning: Recall is ill-defined and being set to 0.0 in labels with no true samples. Use `zero_division` parameter to control this behavior.\n",
            "  _warn_prf(average, modifier, f\"{metric.capitalize()} is\", len(result))\n"
          ]
        }
      ],
      "source": [
        "print(\"\\nClassification Report:\")\n",
        "print(classification_report(y_true, y_pred))"
      ]
    },
    {
      "cell_type": "code",
      "execution_count": null,
      "metadata": {
        "colab": {
          "base_uri": "https://localhost:8080/"
        },
        "id": "k7N8-LFRUVRr",
        "outputId": "c1565059-533f-4e84-9318-191d11651bcb"
      },
      "outputs": [
        {
          "output_type": "stream",
          "name": "stdout",
          "text": [
            "\n",
            "Confusion Matrix:\n",
            "[[ 0  0  0  1  8 13]\n",
            " [ 0  0  0 19  1  3]\n",
            " [ 0  0  0  5  2 16]\n",
            " [ 0  0  0  0  0  0]\n",
            " [ 0  0  0  0  0  0]\n",
            " [ 0  0  0  0  0  0]]\n"
          ]
        }
      ],
      "source": [
        "print(\"\\nConfusion Matrix:\")\n",
        "print(confusion_matrix(y_true, y_pred))"
      ]
    },
    {
      "cell_type": "code",
      "execution_count": null,
      "metadata": {
        "colab": {
          "base_uri": "https://localhost:8080/"
        },
        "id": "Rncq95B_bgMz",
        "outputId": "ea20a5ad-a886-4350-d72e-5e2901b203e4"
      },
      "outputs": [
        {
          "output_type": "stream",
          "name": "stdout",
          "text": [
            "\n",
            "feedback_text (%):\n",
            "{\n",
            "  \"positive\": \"47.06%\",\n",
            "  \"negative\": \"36.76%\",\n",
            "  \"neutral\": \"16.18%\"\n",
            "}\n"
          ]
        }
      ],
      "source": [
        "from collections import Counter\n",
        "from sklearn.feature_extraction.text import CountVectorizer\n",
        "# --- feedback_text Distribution ---\n",
        "sentiment_counts = Counter(y_pred)\n",
        "total = sum(sentiment_counts.values())\n",
        "summary_distribution = {sentiment: f\"{(count/total)*100:.2f}%\" for sentiment, count in sentiment_counts.items()}\n",
        "print(\"\\nfeedback_text (%):\")\n",
        "print(json.dumps(summary_distribution, indent=2))"
      ]
    },
    {
      "cell_type": "code",
      "execution_count": null,
      "metadata": {
        "colab": {
          "base_uri": "https://localhost:8080/"
        },
        "id": "C8CvywnUbm1f",
        "outputId": "faf9ae8b-7275-43d8-ca6e-c762f9b38fd9"
      },
      "outputs": [
        {
          "output_type": "stream",
          "name": "stdout",
          "text": [
            "\n",
            "Top Words/Phrases in Negative Sentences:\n",
            "['administrative' 'certificate' 'certificate slow' 'getting'\n",
            " 'getting bonafide' 'needs' 'process' 'process getting' 'slow' 'staff']\n"
          ]
        }
      ],
      "source": [
        "# --- Top Words/Phrases for Negative Sentences ---\n",
        "negative_texts = data_test['feedback_text'][np.array(y_pred) == 'negative']\n",
        "vectorizer = CountVectorizer(stop_words='english', ngram_range=(1,2), max_features=10)\n",
        "X = vectorizer.fit_transform(negative_texts)\n",
        "top_negative_words = vectorizer.get_feature_names_out()\n",
        "print(\"\\nTop Words/Phrases in Negative Sentences:\")\n",
        "print(top_negative_words)"
      ]
    },
    {
      "cell_type": "code",
      "execution_count": null,
      "metadata": {
        "colab": {
          "base_uri": "https://localhost:8080/"
        },
        "id": "6ng0zRV6bqhE",
        "outputId": "6b6d6609-4e82-48f1-a269-1d7dff612a1f"
      },
      "outputs": [
        {
          "output_type": "stream",
          "name": "stdout",
          "text": [
            "\n",
            "Summary Statement:\n",
            "The overall sentiment of this document is predominantly\n",
            " **positive** (47.06% of sentences).\n",
            " Frequent negative themes include: administrative, certificate, certificate slow, getting, getting bonafide, needs, process, process getting, slow, staff.\n"
          ]
        }
      ],
      "source": [
        "# --- Summary Statement ---\n",
        "majority_sentiment = max(sentiment_counts, key=sentiment_counts.get)\n",
        "summary_statement = (\n",
        "    f\"The overall sentiment of this document is predominantly\\n **{majority_sentiment}** \"\n",
        "    f\"({summary_distribution[majority_sentiment]} of sentences).\\n \"\n",
        "    f\"Frequent negative themes include: {', '.join(top_negative_words)}.\"\n",
        ")\n",
        "print(\"\\nSummary Statement:\")\n",
        "print(summary_statement)"
      ]
    },
    {
      "cell_type": "code",
      "execution_count": null,
      "metadata": {
        "colab": {
          "base_uri": "https://localhost:8080/"
        },
        "id": "fVEWXalmUWLt",
        "outputId": "5ea6f987-fef9-47e4-9f49-0b3057f92daa"
      },
      "outputs": [
        {
          "output_type": "stream",
          "name": "stdout",
          "text": [
            "Results saved to feedback_text_results.csv\n"
          ]
        }
      ],
      "source": [
        "# --- 11. Output Results to File ---\n",
        "output_df = data_test.copy()\n",
        "output_df['Predicted Sentiment'] = y_pred\n",
        "output_df.to_csv(\"feedback_text_results.csv\", index=False)\n",
        "print(\"Results saved to feedback_text_results.csv\")\n"
      ]
    },
    {
      "cell_type": "code",
      "execution_count": null,
      "metadata": {
        "colab": {
          "base_uri": "https://localhost:8080/"
        },
        "id": "DD_aijudUbkR",
        "outputId": "bb8f1527-2eaa-4573-9a46-07496a4e0aec"
      },
      "outputs": [
        {
          "name": "stdout",
          "output_type": "stream",
          "text": [
            "\n",
            "Enter a legal sentence to analyze sentiment (or type 'exit'): The maintaince in the hostel corredor in not that good , but we can go with it.\n",
            "Predicted Sentiment: neutral\n",
            "\n",
            "Enter a legal sentence to analyze sentiment (or type 'exit'): i always skip my hostel mess, as i don't have time\n",
            "Predicted Sentiment: neutral\n",
            "\n",
            "Enter a legal sentence to analyze sentiment (or type 'exit'): i skip my lunch in hostel mess , i don't like it\n",
            "Predicted Sentiment: negative\n",
            "\n",
            "Enter a legal sentence to analyze sentiment (or type 'exit'): my room is looking good compared to others\n",
            "Predicted Sentiment: positive\n",
            "\n",
            "Enter a legal sentence to analyze sentiment (or type 'exit'): exit\n"
          ]
        }
      ],
      "source": [
        "# --- 12. Interactive Testing ---\n",
        "while True:\n",
        "    custom_input = input(\"\\nEnter a legal sentence to analyze sentiment (or type 'exit'): \").strip()\n",
        "    if custom_input.lower() == 'exit':\n",
        "        break\n",
        "    custom_prompt = instruction + f\"\\nsentence: {custom_input}\\nsentiment:\"\n",
        "    response = model.generate(custom_prompt)['results'][0]['generated_text']\n",
        "    print(f\"Predicted Sentiment: {response.strip().lower()}\")"
      ]
    },
    {
      "cell_type": "code",
      "source": [
        "import pandas as pd\n",
        "import matplotlib.pyplot as plt\n",
        "import seaborn as sns\n",
        "\n",
        "# Load the saved results (if not already loaded)\n",
        "df = pd.read_csv(\"feedback_text_results.csv\")\n",
        "\n",
        "# ✅ Distribution of Predicted Categories\n",
        "category_counts = df['Predicted Sentiment'].value_counts()\n",
        "print(\"\\nPredicted Category Distribution:\")\n",
        "print(category_counts)\n",
        "\n",
        "# ✅ Bar Chart of Predicted Category Distribution\n",
        "category_counts.plot(kind='bar', color=['skyblue', 'lightgreen', 'salmon'])\n",
        "plt.title(\"Predicted Feedback Category Distribution\")\n",
        "plt.ylabel(\"Number of Feedback Entries\")\n",
        "plt.xticks(rotation=0)\n",
        "plt.grid(axis='y')\n",
        "plt.show()\n"
      ],
      "metadata": {
        "colab": {
          "base_uri": "https://localhost:8080/",
          "height": 599
        },
        "id": "2QgfgxvDOQkL",
        "outputId": "0550e3d7-4909-4a0b-a3fe-aafb49251598"
      },
      "execution_count": null,
      "outputs": [
        {
          "output_type": "stream",
          "name": "stdout",
          "text": [
            "\n",
            "Predicted Category Distribution:\n",
            "Predicted Sentiment\n",
            "positive    32\n",
            "negative    25\n",
            "neutral     11\n",
            "Name: count, dtype: int64\n"
          ]
        },
        {
          "output_type": "display_data",
          "data": {
            "text/plain": [
              "<Figure size 640x480 with 1 Axes>"
            ],
            "image/png": "[encoded data removed]"
          },
          "metadata": {}
        }
      ]
    }
  ],
  "metadata": {
    "colab": {
      "provenance": []
    },
    "kernelspec": {
      "display_name": "Python 3",
      "name": "python3"
    },
    "language_info": {
      "name": "python"
    }
  },
  "nbformat": 4,
  "nbformat_minor": 0
}